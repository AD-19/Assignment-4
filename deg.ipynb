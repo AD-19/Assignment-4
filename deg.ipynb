{
 "cells": [
  {
   "cell_type": "code",
   "execution_count": null,
   "metadata": {},
   "outputs": [],
   "source": [
    "with open('deg.txt', 'r') as file:\n",
    "    lines = file.read().splitlines()\n",
    "\n",
    "n, m = map(int, lines[0].split())\n",
    "degrees = [0] * (n + 1)\n",
    "for line in lines[1:]:\n",
    "    u, v = map(int, line.split())\n",
    "    degrees[u] += 1\n",
    "    degrees[v] += 1\n",
    "\n",
    "print(' '.join(map(str, degrees[1:])))"
   ]
  }
 ],
 "metadata": {
  "kernelspec": {
   "display_name": "Python 3",
   "language": "python",
   "name": "python3"
  },
  "language_info": {
   "codemirror_mode": {
    "name": "ipython",
    "version": 3
   },
   "file_extension": ".py",
   "mimetype": "text/x-python",
   "name": "python",
   "nbconvert_exporter": "python",
   "pygments_lexer": "ipython3",
   "version": "3.12.0"
  }
 },
 "nbformat": 4,
 "nbformat_minor": 2
}
