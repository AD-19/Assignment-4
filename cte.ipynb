{
 "cells": [
  {
   "cell_type": "code",
   "execution_count": 1,
   "metadata": {},
   "outputs": [
    {
     "name": "stdout",
     "output_type": "stream",
     "text": [
      "6519 5272 2919 -1 3577 2625 -1 -1 -1 4165 -1 -1 -1 6058 5582 5309\n"
     ]
    }
   ],
   "source": [
    "import heapq\n",
    "\n",
    "with open('cte.txt', 'r') as file:\n",
    "    lines = file.read().splitlines()\n",
    "\n",
    "index = 0\n",
    "k = int(lines[index])\n",
    "index += 1\n",
    "results = []\n",
    "\n",
    "for i in range(k):\n",
    "    while index < len(lines) and lines[index].strip() == '':\n",
    "        index += 1\n",
    "    if index >= len(lines):\n",
    "        break\n",
    "    n, m = map(int, lines[index].split())\n",
    "    index += 1\n",
    "    adj = [[] for i in range(n + 1)]\n",
    "    edges = []\n",
    "    for i in range(m):\n",
    "        u, v, w = map(int, lines[index].split())\n",
    "        adj[u].append((v, w))\n",
    "        edges.append((u, v, w))\n",
    "        index += 1\n",
    "    if not edges:\n",
    "        results.append(\"-1\")\n",
    "        continue\n",
    "    first_u, first_v, first_w = edges[0]\n",
    "    dist = [float('inf')] * (n + 1)\n",
    "    dist[first_v] = 0\n",
    "    heap = []\n",
    "    heapq.heappush(heap, (0, first_v))\n",
    "    while heap:\n",
    "        current_dist, u = heapq.heappop(heap)\n",
    "        if current_dist > dist[u]:\n",
    "            continue\n",
    "        for neighbor, weight in adj[u]:\n",
    "            if dist[neighbor] > dist[u] + weight:\n",
    "                dist[neighbor] = dist[u] + weight\n",
    "                heapq.heappush(heap, (dist[neighbor], neighbor))\n",
    "    if dist[first_u] != float('inf'):\n",
    "        cycle_length = first_w + dist[first_u]\n",
    "        results.append(str(cycle_length))\n",
    "    else:\n",
    "        results.append(\"-1\")\n",
    "\n",
    "print(' '.join(results))"
   ]
  }
 ],
 "metadata": {
  "kernelspec": {
   "display_name": "Python 3",
   "language": "python",
   "name": "python3"
  },
  "language_info": {
   "codemirror_mode": {
    "name": "ipython",
    "version": 3
   },
   "file_extension": ".py",
   "mimetype": "text/x-python",
   "name": "python",
   "nbconvert_exporter": "python",
   "pygments_lexer": "ipython3",
   "version": "3.12.0"
  }
 },
 "nbformat": 4,
 "nbformat_minor": 2
}
