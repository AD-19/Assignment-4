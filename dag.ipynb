{
 "cells": [
  {
   "cell_type": "code",
   "execution_count": 1,
   "metadata": {},
   "outputs": [
    {
     "name": "stdout",
     "output_type": "stream",
     "text": [
      "1 -1 1 1 1 -1 1 -1 -1 -1 1 -1 1 1 1 -1\n"
     ]
    }
   ],
   "source": [
    "with open('dag.txt', 'r') as file:\n",
    "    lines = file.read().splitlines()\n",
    "\n",
    "index = 0\n",
    "k = int(lines[index])\n",
    "index += 1\n",
    "results = []\n",
    "\n",
    "for i in range(k):\n",
    "    while index < len(lines) and lines[index].strip() == '':\n",
    "        index += 1\n",
    "    if index >= len(lines):\n",
    "        break\n",
    "    n, m = map(int, lines[index].split())\n",
    "    index += 1\n",
    "    adj = [[] for i in range(n + 1)]\n",
    "    in_degree = [0] * (n + 1)\n",
    "    for i in range(m):\n",
    "        u, v = map(int, lines[index].split())\n",
    "        adj[u].append(v)\n",
    "        in_degree[v] += 1\n",
    "        index += 1\n",
    "    queue = []\n",
    "    for j in range(1, n + 1):\n",
    "        if in_degree[j] == 0:\n",
    "            queue.append(j)\n",
    "    count = 0\n",
    "    while queue:\n",
    "        u = queue.pop(0)\n",
    "        count += 1\n",
    "        for v in adj[u]:\n",
    "            in_degree[v] -= 1\n",
    "            if in_degree[v] == 0:\n",
    "                queue.append(v)\n",
    "    if count == n:\n",
    "        results.append(\"1\")\n",
    "    else:\n",
    "        results.append(\"-1\")\n",
    "\n",
    "print(' '.join(results))"
   ]
  }
 ],
 "metadata": {
  "kernelspec": {
   "display_name": "Python 3",
   "language": "python",
   "name": "python3"
  },
  "language_info": {
   "codemirror_mode": {
    "name": "ipython",
    "version": 3
   },
   "file_extension": ".py",
   "mimetype": "text/x-python",
   "name": "python",
   "nbconvert_exporter": "python",
   "pygments_lexer": "ipython3",
   "version": "3.12.0"
  }
 },
 "nbformat": 4,
 "nbformat_minor": 2
}
