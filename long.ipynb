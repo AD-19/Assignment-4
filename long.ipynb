{
 "cells": [
  {
   "cell_type": "code",
   "execution_count": null,
   "metadata": {},
   "outputs": [],
   "source": [
    "def read_fasta(filename):\n",
    "    with open(filename) as f:\n",
    "        data = f.read().split('>')[1:]\n",
    "    sequences = []\n",
    "    for entry in data:\n",
    "        lines = entry.strip().split('\\n')\n",
    "        sequences.append(''.join(lines[1:]))\n",
    "    return sequences\n",
    "\n",
    "def find_overlap(s1, s2):\n",
    "    max_overlap = 0\n",
    "    for i in range(1, len(s1)):\n",
    "        if s2.startswith(s1[i:]):\n",
    "            max_overlap = len(s1) - i\n",
    "            break\n",
    "    return max_overlap\n",
    "\n",
    "def assemble_superstring(sequences):\n",
    "    while len(sequences) > 1:\n",
    "        max_overlap = -1\n",
    "        pair_to_merge = (0, 0)\n",
    "        for i in range(len(sequences)):\n",
    "            for j in range(len(sequences)):\n",
    "                if i != j:\n",
    "                    overlap = find_overlap(sequences[i], sequences[j])\n",
    "                    if overlap > max_overlap:\n",
    "                        max_overlap = overlap\n",
    "                        pair_to_merge = (i, j)\n",
    "        i, j = pair_to_merge\n",
    "        sequences[i] = sequences[i] + sequences[j][max_overlap:]\n",
    "        sequences.pop(j)\n",
    "    return sequences[0]\n",
    "\n",
    "sequences = read_fasta(\"long.txt\")\n",
    "result = assemble_superstring(sequences)\n",
    "print(result)\n"
   ]
  }
 ],
 "metadata": {
  "kernelspec": {
   "display_name": "Python 3",
   "language": "python",
   "name": "python3"
  },
  "language_info": {
   "codemirror_mode": {
    "name": "ipython",
    "version": 3
   },
   "file_extension": ".py",
   "mimetype": "text/x-python",
   "name": "python",
   "nbconvert_exporter": "python",
   "pygments_lexer": "ipython3",
   "version": "3.12.0"
  }
 },
 "nbformat": 4,
 "nbformat_minor": 2
}
