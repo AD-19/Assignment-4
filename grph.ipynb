{
 "cells": [
  {
   "cell_type": "code",
   "execution_count": null,
   "metadata": {},
   "outputs": [],
   "source": [
    "def read_fasta(filename):\n",
    "    sequences = {}\n",
    "    with open(filename, 'r') as file:\n",
    "        label = \"\"\n",
    "        seq = \"\"\n",
    "        for line in file:\n",
    "            line = line.strip()\n",
    "            if line.startswith('>'):\n",
    "                if label:\n",
    "                    sequences[label] = seq\n",
    "                label = line[1:]\n",
    "                seq = \"\"\n",
    "            else:\n",
    "                seq += line\n",
    "        if label:\n",
    "            sequences[label] = seq\n",
    "    return sequences\n",
    "\n",
    "def overlap_graph(sequences, k):\n",
    "    edges = []\n",
    "    for s_label, s_seq in sequences.items():\n",
    "        suffix = s_seq[-k:]\n",
    "        for t_label, t_seq in sequences.items():\n",
    "            if s_label != t_label and t_seq.startswith(suffix):\n",
    "                edges.append(f\"{s_label} {t_label}\")\n",
    "    return edges\n",
    "\n",
    "def main():\n",
    "    sequences = read_fasta('grph.txt')\n",
    "    edges = overlap_graph(sequences, 3)\n",
    "    for edge in edges:\n",
    "        print(edge)\n",
    "\n",
    "main()"
   ]
  }
 ],
 "metadata": {
  "kernelspec": {
   "display_name": "Python 3",
   "language": "python",
   "name": "python3"
  },
  "language_info": {
   "codemirror_mode": {
    "name": "ipython",
    "version": 3
   },
   "file_extension": ".py",
   "mimetype": "text/x-python",
   "name": "python",
   "nbconvert_exporter": "python",
   "pygments_lexer": "ipython3",
   "version": "3.12.0"
  }
 },
 "nbformat": 4,
 "nbformat_minor": 2
}
