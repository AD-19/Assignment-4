{
 "cells": [
  {
   "cell_type": "code",
   "execution_count": 1,
   "metadata": {},
   "outputs": [
    {
     "name": "stdout",
     "output_type": "stream",
     "text": [
      "1 1 1 -1 -1 1 -1 1 -1 1 1 1 -1 -1 -1 1 -1 -1\n"
     ]
    }
   ],
   "source": [
    "with open('bip.txt', 'r') as file:\n",
    "    lines = file.read().splitlines()\n",
    "\n",
    "index = 0\n",
    "k = int(lines[index])\n",
    "index += 1\n",
    "results = []\n",
    "\n",
    "for i in range(k):\n",
    "    while index < len(lines) and lines[index].strip() == '':\n",
    "        index += 1\n",
    "    if index >= len(lines):\n",
    "        break\n",
    "    n, m = map(int, lines[index].split())\n",
    "    index += 1\n",
    "    adj = [[] for i in range(n + 1)]\n",
    "    for i in range(m):\n",
    "        u, v = map(int, lines[index].split())\n",
    "        adj[u].append(v)\n",
    "        adj[v].append(u)\n",
    "        index += 1\n",
    "    color = [0] * (n + 1)\n",
    "    is_bip = True\n",
    "    for u in range(1, n + 1):\n",
    "        if color[u] == 0:\n",
    "            queue = [u]\n",
    "            color[u] = 1\n",
    "            while queue and is_bip:\n",
    "                current = queue.pop(0)\n",
    "                for neighbor in adj[current]:\n",
    "                    if color[neighbor] == 0:\n",
    "                        color[neighbor] = -color[current]\n",
    "                        queue.append(neighbor)\n",
    "                    elif color[neighbor] == color[current]:\n",
    "                        is_bip = False\n",
    "                        break\n",
    "    if is_bip:\n",
    "        results.append(\"1\")\n",
    "    else:\n",
    "        results.append(\"-1\")\n",
    "\n",
    "print(' '.join(results))\n"
   ]
  }
 ],
 "metadata": {
  "kernelspec": {
   "display_name": "Python 3",
   "language": "python",
   "name": "python3"
  },
  "language_info": {
   "codemirror_mode": {
    "name": "ipython",
    "version": 3
   },
   "file_extension": ".py",
   "mimetype": "text/x-python",
   "name": "python",
   "nbconvert_exporter": "python",
   "pygments_lexer": "ipython3",
   "version": "3.12.0"
  }
 },
 "nbformat": 4,
 "nbformat_minor": 2
}
