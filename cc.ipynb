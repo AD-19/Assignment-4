{
 "cells": [
  {
   "cell_type": "code",
   "execution_count": 1,
   "metadata": {},
   "outputs": [
    {
     "name": "stdout",
     "output_type": "stream",
     "text": [
      "87\n"
     ]
    }
   ],
   "source": [
    "with open('cc.txt', 'r') as file:\n",
    "    lines = file.read().splitlines()\n",
    "\n",
    "n, m = map(int, lines[0].split())\n",
    "adj = [[] for _ in range(n + 1)]\n",
    "for line in lines[1:]:\n",
    "    u, v = map(int, line.split())\n",
    "    adj[u].append(v)\n",
    "    adj[v].append(u)\n",
    "\n",
    "visited = [False] * (n + 1)\n",
    "count = 0\n",
    "\n",
    "for u in range(1, n + 1):\n",
    "    if not visited[u]:\n",
    "        count += 1\n",
    "        stack = [u]\n",
    "        while stack:\n",
    "            node = stack.pop()\n",
    "            if not visited[node]:\n",
    "                visited[node] = True\n",
    "                for neighbor in adj[node]:\n",
    "                    if not visited[neighbor]:\n",
    "                        stack.append(neighbor)\n",
    "\n",
    "print(count)\n"
   ]
  }
 ],
 "metadata": {
  "kernelspec": {
   "display_name": "Python 3",
   "language": "python",
   "name": "python3"
  },
  "language_info": {
   "codemirror_mode": {
    "name": "ipython",
    "version": 3
   },
   "file_extension": ".py",
   "mimetype": "text/x-python",
   "name": "python",
   "nbconvert_exporter": "python",
   "pygments_lexer": "ipython3",
   "version": "3.12.0"
  }
 },
 "nbformat": 4,
 "nbformat_minor": 2
}
